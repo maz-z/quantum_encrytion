{
  "nbformat": 4,
  "nbformat_minor": 0,
  "metadata": {
    "kernelspec": {
      "display_name": "Python 3",
      "language": "python",
      "name": "python3"
    },
    "language_info": {
      "codemirror_mode": {
        "name": "ipython",
        "version": 3
      },
      "file_extension": ".py",
      "mimetype": "text/x-python",
      "name": "python",
      "nbconvert_exporter": "python",
      "pygments_lexer": "ipython3",
      "version": "3.7.7"
    },
    "colab": {
      "name": "Final project.ipynb",
      "provenance": []
    }
  },
  "cells": [
    {
      "cell_type": "markdown",
      "metadata": {
        "tags": [
          "remove_cell"
        ],
        "id": "bPFMlJRGiFH7"
      },
      "source": [
        "# Quantum Encryption and Decryption\n",
        "\n"
      ]
    },
    {
      "cell_type": "code",
      "metadata": {
        "id": "_IwlnrokjO6r"
      },
      "source": [
        "pip install qiskit"
      ],
      "execution_count": null,
      "outputs": []
    },
    {
      "cell_type": "code",
      "metadata": {
        "scrolled": true,
        "tags": [
          "thebelab-init"
        ],
        "id": "OjYwMYTniFH9"
      },
      "source": [
        "from qiskit import QuantumCircuit, Aer, transpile, assemble\n",
        "from qiskit.visualization import plot_histogram, plot_bloch_multivector\n",
        "from numpy.random import randint\n",
        "import numpy as np\n",
        "import matplotlib.pyplot as plt\n",
        "from qiskit import QuantumCircuit, Aer, transpile, assemble\n",
        "from qiskit.visualization import plot_histogram\n",
        "from math import gcd\n",
        "from numpy.random import randint\n",
        "import pandas as pd\n",
        "from fractions import Fraction"
      ],
      "execution_count": 2,
      "outputs": []
    },
    {
      "cell_type": "markdown",
      "metadata": {
        "id": "aqzIUQyg5d9n"
      },
      "source": [
        "#Shor's algorithm\n",
        "\n"
      ]
    },
    {
      "cell_type": "code",
      "metadata": {
        "colab": {
          "base_uri": "https://localhost:8080/",
          "height": 296
        },
        "id": "07tiwYNhLRuo",
        "outputId": "a07082ac-c7ba-4b0c-83be-7c8117333a1d"
      },
      "source": [
        "N = 15\n",
        "a = 7\n",
        "\n",
        "xvals = np.arange(17)\n",
        "yvals = [np.mod(a**x, N) for x in xvals]\n",
        "\n",
        "fig, ax = plt.subplots()\n",
        "ax.plot(xvals, yvals, linewidth=1, linestyle='dotted', marker='x')\n",
        "ax.set(xlabel='$r$', ylabel='$%i^x$ mod $%i$' % (a, N),\n",
        "       title=\"Period Finding\")\n",
        "try: \n",
        "    r = yvals[1:].index(1) +1 \n",
        "    plt.annotate('', xy=(0,1), xytext=(r,1), arrowprops=dict(arrowstyle='<->'))\n",
        "    plt.annotate('$r=%i$' % r, xy=(r/3,1.5))\n",
        "except ValueError:\n",
        "    print('Could not find period, check a < N and have no common factors.')"
      ],
      "execution_count": 3,
      "outputs": [
        {
          "output_type": "display_data",
          "data": {
            "image/png": "[encoded data removed]",
            "text/plain": [
              "<Figure size 432x288 with 1 Axes>"
            ]
          },
          "metadata": {
            "tags": [],
            "needs_background": "light"
          }
        }
      ]
    },
    {
      "cell_type": "code",
      "metadata": {
        "id": "epGO6t9CLOsP"
      },
      "source": [
        "def c_amod15(a, power):\n",
        "    if a not in [2,7,8,11,13]:\n",
        "        raise ValueError(\"'a' must be 2,7,8,11 or 13\")\n",
        "    U = QuantumCircuit(4)        \n",
        "    for iteration in range(power):\n",
        "        if a in [2,13]:\n",
        "            U.swap(0,1)\n",
        "            U.swap(1,2)\n",
        "            U.swap(2,3)\n",
        "        if a in [7,8]:\n",
        "            U.swap(2,3)\n",
        "            U.swap(1,2)\n",
        "            U.swap(0,1)\n",
        "        if a == 11:\n",
        "            U.swap(1,3)\n",
        "            U.swap(0,2)\n",
        "        if a in [7,11,13]:\n",
        "            for q in range(4):\n",
        "                U.x(q)\n",
        "    U = U.to_gate()\n",
        "    U.name = \"%i^%i mod 15\" % (a, power)\n",
        "    c_U = U.control()\n",
        "    return c_U"
      ],
      "execution_count": 4,
      "outputs": []
    },
    {
      "cell_type": "code",
      "metadata": {
        "id": "744VN3yTM64v"
      },
      "source": [
        "# Specify variables\n",
        "n_count = 8  # number of counting qubits\n",
        "a = 7"
      ],
      "execution_count": 5,
      "outputs": []
    },
    {
      "cell_type": "code",
      "metadata": {
        "id": "aBNuR4OzM9YV"
      },
      "source": [
        "def qft_dagger(n):\n",
        "    \"\"\"n-qubit QFTdagger the first n qubits in circ\"\"\"\n",
        "    qc = QuantumCircuit(n)\n",
        "    # Don't forget the Swaps!\n",
        "    for qubit in range(n//2):\n",
        "        qc.swap(qubit, n-qubit-1)\n",
        "    for j in range(n):\n",
        "        for m in range(j):\n",
        "            qc.cp(-np.pi/float(2**(j-m)), m, j)\n",
        "        qc.h(j)\n",
        "    qc.name = \"QFT†\"\n",
        "    return qc"
      ],
      "execution_count": 6,
      "outputs": []
    },
    {
      "cell_type": "code",
      "metadata": {
        "colab": {
          "base_uri": "https://localhost:8080/",
          "height": 422
        },
        "id": "5E_1HbH1M_3r",
        "outputId": "1cd4555f-5910-4d9c-94d7-5f9038b0cf3f"
      },
      "source": [
        "# Create QuantumCircuit with n_count counting qubits\n",
        "# plus 4 qubits for U to act on\n",
        "qc = QuantumCircuit(n_count + 4, n_count)\n",
        "\n",
        "# Initialize counting qubits\n",
        "# in state |+>\n",
        "for q in range(n_count):\n",
        "    qc.h(q)\n",
        "    \n",
        "# And auxiliary register in state |1>\n",
        "qc.x(3+n_count)\n",
        "\n",
        "# Do controlled-U operations\n",
        "for q in range(n_count):\n",
        "    qc.append(c_amod15(a, 2**q), \n",
        "             [q] + [i+n_count for i in range(4)])\n",
        "\n",
        "# Do inverse-QFT\n",
        "qc.append(qft_dagger(n_count), range(n_count))\n",
        "\n",
        "# Measure circuit\n",
        "qc.measure(range(n_count), range(n_count))\n",
        "qc.draw(fold=-1)  # -1 means 'do not fold' "
      ],
      "execution_count": 7,
      "outputs": [
        {
          "output_type": "execute_result",
          "data": {
            "text/html": [
              "<pre style=\"word-wrap: normal;white-space: pre;background: #fff0;line-height: 1.1;font-family: &quot;Courier New&quot;,Courier,monospace\">      ┌───┐                                                                                                                             ┌───────┐┌─┐                     \n",
              " q_0: ┤ H ├───────■─────────────────────────────────────────────────────────────────────────────────────────────────────────────────────┤0      ├┤M├─────────────────────\n",
              "      ├───┤       │                                                                                                                     │       │└╥┘┌─┐                  \n",
              " q_1: ┤ H ├───────┼──────────────■──────────────────────────────────────────────────────────────────────────────────────────────────────┤1      ├─╫─┤M├──────────────────\n",
              "      ├───┤       │              │                                                                                                      │       │ ║ └╥┘┌─┐               \n",
              " q_2: ┤ H ├───────┼──────────────┼──────────────■───────────────────────────────────────────────────────────────────────────────────────┤2      ├─╫──╫─┤M├───────────────\n",
              "      ├───┤       │              │              │                                                                                       │       │ ║  ║ └╥┘┌─┐            \n",
              " q_3: ┤ H ├───────┼──────────────┼──────────────┼──────────────■────────────────────────────────────────────────────────────────────────┤3      ├─╫──╫──╫─┤M├────────────\n",
              "      ├───┤       │              │              │              │                                                                        │  QFT† │ ║  ║  ║ └╥┘┌─┐         \n",
              " q_4: ┤ H ├───────┼──────────────┼──────────────┼──────────────┼──────────────■─────────────────────────────────────────────────────────┤4      ├─╫──╫──╫──╫─┤M├─────────\n",
              "      ├───┤       │              │              │              │              │                                                         │       │ ║  ║  ║  ║ └╥┘┌─┐      \n",
              " q_5: ┤ H ├───────┼──────────────┼──────────────┼──────────────┼──────────────┼───────────────■─────────────────────────────────────────┤5      ├─╫──╫──╫──╫──╫─┤M├──────\n",
              "      ├───┤       │              │              │              │              │               │                                         │       │ ║  ║  ║  ║  ║ └╥┘┌─┐   \n",
              " q_6: ┤ H ├───────┼──────────────┼──────────────┼──────────────┼──────────────┼───────────────┼───────────────■─────────────────────────┤6      ├─╫──╫──╫──╫──╫──╫─┤M├───\n",
              "      ├───┤       │              │              │              │              │               │               │                         │       │ ║  ║  ║  ║  ║  ║ └╥┘┌─┐\n",
              " q_7: ┤ H ├───────┼──────────────┼──────────────┼──────────────┼──────────────┼───────────────┼───────────────┼────────────────■────────┤7      ├─╫──╫──╫──╫──╫──╫──╫─┤M├\n",
              "      └───┘┌──────┴──────┐┌──────┴──────┐┌──────┴──────┐┌──────┴──────┐┌──────┴───────┐┌──────┴───────┐┌──────┴───────┐┌───────┴───────┐└───────┘ ║  ║  ║  ║  ║  ║  ║ └╥┘\n",
              " q_8: ─────┤0            ├┤0            ├┤0            ├┤0            ├┤0             ├┤0             ├┤0             ├┤0              ├──────────╫──╫──╫──╫──╫──╫──╫──╫─\n",
              "           │             ││             ││             ││             ││              ││              ││              ││               │          ║  ║  ║  ║  ║  ║  ║  ║ \n",
              " q_9: ─────┤1            ├┤1            ├┤1            ├┤1            ├┤1             ├┤1             ├┤1             ├┤1              ├──────────╫──╫──╫──╫──╫──╫──╫──╫─\n",
              "           │  7^1 mod 15 ││  7^2 mod 15 ││  7^4 mod 15 ││  7^8 mod 15 ││  7^16 mod 15 ││  7^32 mod 15 ││  7^64 mod 15 ││  7^128 mod 15 │          ║  ║  ║  ║  ║  ║  ║  ║ \n",
              "q_10: ─────┤2            ├┤2            ├┤2            ├┤2            ├┤2             ├┤2             ├┤2             ├┤2              ├──────────╫──╫──╫──╫──╫──╫──╫──╫─\n",
              "      ┌───┐│             ││             ││             ││             ││              ││              ││              ││               │          ║  ║  ║  ║  ║  ║  ║  ║ \n",
              "q_11: ┤ X ├┤3            ├┤3            ├┤3            ├┤3            ├┤3             ├┤3             ├┤3             ├┤3              ├──────────╫──╫──╫──╫──╫──╫──╫──╫─\n",
              "      └───┘└─────────────┘└─────────────┘└─────────────┘└─────────────┘└──────────────┘└──────────────┘└──────────────┘└───────────────┘          ║  ║  ║  ║  ║  ║  ║  ║ \n",
              " c: 8/════════════════════════════════════════════════════════════════════════════════════════════════════════════════════════════════════════════╩══╩══╩══╩══╩══╩══╩══╩═\n",
              "                                                                                                                                                  0  1  2  3  4  5  6  7 </pre>"
            ],
            "text/plain": [
              "      ┌───┐                                                                                                                             ┌───────┐┌─┐                     \n",
              " q_0: ┤ H ├───────■─────────────────────────────────────────────────────────────────────────────────────────────────────────────────────┤0      ├┤M├─────────────────────\n",
              "      ├───┤       │                                                                                                                     │       │└╥┘┌─┐                  \n",
              " q_1: ┤ H ├───────┼──────────────■──────────────────────────────────────────────────────────────────────────────────────────────────────┤1      ├─╫─┤M├──────────────────\n",
              "      ├───┤       │              │                                                                                                      │       │ ║ └╥┘┌─┐               \n",
              " q_2: ┤ H ├───────┼──────────────┼──────────────■───────────────────────────────────────────────────────────────────────────────────────┤2      ├─╫──╫─┤M├───────────────\n",
              "      ├───┤       │              │              │                                                                                       │       │ ║  ║ └╥┘┌─┐            \n",
              " q_3: ┤ H ├───────┼──────────────┼──────────────┼──────────────■────────────────────────────────────────────────────────────────────────┤3      ├─╫──╫──╫─┤M├────────────\n",
              "      ├───┤       │              │              │              │                                                                        │  QFT† │ ║  ║  ║ └╥┘┌─┐         \n",
              " q_4: ┤ H ├───────┼──────────────┼──────────────┼──────────────┼──────────────■─────────────────────────────────────────────────────────┤4      ├─╫──╫──╫──╫─┤M├─────────\n",
              "      ├───┤       │              │              │              │              │                                                         │       │ ║  ║  ║  ║ └╥┘┌─┐      \n",
              " q_5: ┤ H ├───────┼──────────────┼──────────────┼──────────────┼──────────────┼───────────────■─────────────────────────────────────────┤5      ├─╫──╫──╫──╫──╫─┤M├──────\n",
              "      ├───┤       │              │              │              │              │               │                                         │       │ ║  ║  ║  ║  ║ └╥┘┌─┐   \n",
              " q_6: ┤ H ├───────┼──────────────┼──────────────┼──────────────┼──────────────┼───────────────┼───────────────■─────────────────────────┤6      ├─╫──╫──╫──╫──╫──╫─┤M├───\n",
              "      ├───┤       │              │              │              │              │               │               │                         │       │ ║  ║  ║  ║  ║  ║ └╥┘┌─┐\n",
              " q_7: ┤ H ├───────┼──────────────┼──────────────┼──────────────┼──────────────┼───────────────┼───────────────┼────────────────■────────┤7      ├─╫──╫──╫──╫──╫──╫──╫─┤M├\n",
              "      └───┘┌──────┴──────┐┌──────┴──────┐┌──────┴──────┐┌──────┴──────┐┌──────┴───────┐┌──────┴───────┐┌──────┴───────┐┌───────┴───────┐└───────┘ ║  ║  ║  ║  ║  ║  ║ └╥┘\n",
              " q_8: ─────┤0            ├┤0            ├┤0            ├┤0            ├┤0             ├┤0             ├┤0             ├┤0              ├──────────╫──╫──╫──╫──╫──╫──╫──╫─\n",
              "           │             ││             ││             ││             ││              ││              ││              ││               │          ║  ║  ║  ║  ║  ║  ║  ║ \n",
              " q_9: ─────┤1            ├┤1            ├┤1            ├┤1            ├┤1             ├┤1             ├┤1             ├┤1              ├──────────╫──╫──╫──╫──╫──╫──╫──╫─\n",
              "           │  7^1 mod 15 ││  7^2 mod 15 ││  7^4 mod 15 ││  7^8 mod 15 ││  7^16 mod 15 ││  7^32 mod 15 ││  7^64 mod 15 ││  7^128 mod 15 │          ║  ║  ║  ║  ║  ║  ║  ║ \n",
              "q_10: ─────┤2            ├┤2            ├┤2            ├┤2            ├┤2             ├┤2             ├┤2             ├┤2              ├──────────╫──╫──╫──╫──╫──╫──╫──╫─\n",
              "      ┌───┐│             ││             ││             ││             ││              ││              ││              ││               │          ║  ║  ║  ║  ║  ║  ║  ║ \n",
              "q_11: ┤ X ├┤3            ├┤3            ├┤3            ├┤3            ├┤3             ├┤3             ├┤3             ├┤3              ├──────────╫──╫──╫──╫──╫──╫──╫──╫─\n",
              "      └───┘└─────────────┘└─────────────┘└─────────────┘└─────────────┘└──────────────┘└──────────────┘└──────────────┘└───────────────┘          ║  ║  ║  ║  ║  ║  ║  ║ \n",
              " c: 8/════════════════════════════════════════════════════════════════════════════════════════════════════════════════════════════════════════════╩══╩══╩══╩══╩══╩══╩══╩═\n",
              "                                                                                                                                                  0  1  2  3  4  5  6  7 "
            ]
          },
          "metadata": {
            "tags": []
          },
          "execution_count": 7
        }
      ]
    },
    {
      "cell_type": "code",
      "metadata": {
        "colab": {
          "base_uri": "https://localhost:8080/",
          "height": 381
        },
        "id": "rATdR8QCNEfa",
        "outputId": "84936ec9-972d-465f-94b9-cb3e6970aaa6"
      },
      "source": [
        "aer_sim = Aer.get_backend('aer_simulator')\n",
        "t_qc = transpile(qc, aer_sim)\n",
        "qobj = assemble(t_qc)\n",
        "results = aer_sim.run(qobj).result()\n",
        "counts = results.get_counts()\n",
        "plot_histogram(counts)"
      ],
      "execution_count": 8,
      "outputs": [
        {
          "output_type": "execute_result",
          "data": {
            "image/png": "[encoded data removed]",
            "text/plain": [
              "<Figure size 504x360 with 1 Axes>"
            ]
          },
          "metadata": {
            "tags": []
          },
          "execution_count": 8
        }
      ]
    },
    {
      "cell_type": "markdown",
      "metadata": {
        "id": "exVuBqRackyQ"
      },
      "source": [
        "Factoring 15"
      ]
    },
    {
      "cell_type": "code",
      "metadata": {
        "id": "GTwWUNpudJnc"
      },
      "source": [
        "N = 15"
      ],
      "execution_count": 10,
      "outputs": []
    },
    {
      "cell_type": "code",
      "metadata": {
        "colab": {
          "base_uri": "https://localhost:8080/"
        },
        "id": "nILluU8mdL3E",
        "outputId": "f958c1c7-f0dd-47fd-df3f-26874ac9a072"
      },
      "source": [
        "## pick a random number from 1 and N-1\n",
        "np.random.seed(1)\n",
        "a = randint(2,15)\n",
        "print(a)"
      ],
      "execution_count": 11,
      "outputs": [
        {
          "output_type": "stream",
          "text": [
            "7\n"
          ],
          "name": "stdout"
        }
      ]
    },
    {
      "cell_type": "code",
      "metadata": {
        "colab": {
          "base_uri": "https://localhost:8080/"
        },
        "id": "NsC77heVddTh",
        "outputId": "e5c803d9-ccb2-4915-e7c6-ffdf75e728a2"
      },
      "source": [
        "### check if a is already a factor of N\n",
        "from math import gcd\n",
        "gcd(a, N)"
      ],
      "execution_count": 12,
      "outputs": [
        {
          "output_type": "execute_result",
          "data": {
            "text/plain": [
              "1"
            ]
          },
          "metadata": {
            "tags": []
          },
          "execution_count": 12
        }
      ]
    },
    {
      "cell_type": "code",
      "metadata": {
        "id": "8GY-eoyXewgq"
      },
      "source": [
        "def qpe_amod15(a):\n",
        "    n_count = 8\n",
        "    qc = QuantumCircuit(4+n_count, n_count)\n",
        "    for q in range(n_count):\n",
        "        qc.h(q)     # Initialize counting qubits in state |+>\n",
        "    qc.x(3+n_count) # And auxiliary register in state |1>\n",
        "    for q in range(n_count): # Do controlled-U operations\n",
        "        qc.append(c_amod15(a, 2**q), \n",
        "                 [q] + [i+n_count for i in range(4)])\n",
        "    qc.append(qft_dagger(n_count), range(n_count)) # Do inverse-QFT\n",
        "    qc.measure(range(n_count), range(n_count))\n",
        "    # Simulate Results\n",
        "    aer_sim = Aer.get_backend('aer_simulator')\n",
        "    # Setting memory=True below allows us to see a list of each sequential reading\n",
        "    t_qc = transpile(qc, aer_sim)\n",
        "    obj = assemble(t_qc, shots=1)\n",
        "    result = aer_sim.run(qobj, memory=True).result()\n",
        "    readings = result.get_memory()\n",
        "    # print(\"Register Reading: \" + readings[0])\n",
        "    phase = int(readings[0],2)/(2**n_count)\n",
        "    # print(\"Corresponding Phase: %f\" % phase)\n",
        "    return phase"
      ],
      "execution_count": 13,
      "outputs": []
    },
    {
      "cell_type": "code",
      "metadata": {
        "colab": {
          "base_uri": "https://localhost:8080/"
        },
        "id": "tXOTprBDeyU2",
        "outputId": "496231df-3c2a-41e8-f421-1dc0044dbaee"
      },
      "source": [
        "phase = qpe_amod15(a) # Phase = s/r\n",
        "Fraction(phase).limit_denominator(15) # Denominator should (hopefully!) tell us r"
      ],
      "execution_count": 14,
      "outputs": [
        {
          "output_type": "execute_result",
          "data": {
            "text/plain": [
              "Fraction(1, 4)"
            ]
          },
          "metadata": {
            "tags": []
          },
          "execution_count": 14
        }
      ]
    },
    {
      "cell_type": "code",
      "metadata": {
        "colab": {
          "base_uri": "https://localhost:8080/"
        },
        "id": "zwslNpmqf1hC",
        "outputId": "9d85fff5-afc7-40f6-e423-79f7bf1b19d4"
      },
      "source": [
        "frac = Fraction(phase).limit_denominator(15)\n",
        "s, r = frac.numerator, frac.denominator\n",
        "print(r)"
      ],
      "execution_count": 15,
      "outputs": [
        {
          "output_type": "stream",
          "text": [
            "4\n"
          ],
          "name": "stdout"
        }
      ]
    },
    {
      "cell_type": "code",
      "metadata": {
        "colab": {
          "base_uri": "https://localhost:8080/"
        },
        "id": "GQj1deb5f45N",
        "outputId": "526991ab-b6f9-466a-b26b-a511e2c460ad"
      },
      "source": [
        "guesses = [gcd(a**(r//2)-1, N), gcd(a**(r//2)+1, N)]\n",
        "print(guesses)"
      ],
      "execution_count": 16,
      "outputs": [
        {
          "output_type": "stream",
          "text": [
            "[3, 5]\n"
          ],
          "name": "stdout"
        }
      ]
    },
    {
      "cell_type": "code",
      "metadata": {
        "colab": {
          "base_uri": "https://localhost:8080/"
        },
        "id": "AWbTpe1qf753",
        "outputId": "0b08cc98-8a7a-4766-c5a7-c58a7a4b3526"
      },
      "source": [
        "a = 7\n",
        "factor_found = False\n",
        "attempt = 0\n",
        "while not factor_found:\n",
        "    attempt += 1\n",
        "    print(\"\\nAttempt %i:\" % attempt)\n",
        "    phase = qpe_amod15(a) \n",
        "    frac = Fraction(phase).limit_denominator(N) \n",
        "    r = frac.denominator\n",
        "    print(\"Result: r = %i\" % r)\n",
        "    if phase != 0:\n",
        "        # Guesses for factors are gcd(x^{r/2} ±1 , 15)\n",
        "        guesses = [gcd(a**(r//2)-1, N), gcd(a**(r//2)+1, N)]\n",
        "        print(\"Guessed Factors: %i and %i\" % (guesses[0], guesses[1]))\n",
        "        for guess in guesses:\n",
        "            if guess not in [1,N] and (N % guess) == 0: \n",
        "                print(\"*** Non-trivial factor found: %i ***\" % guess)\n",
        "                factor_found = True"
      ],
      "execution_count": 17,
      "outputs": [
        {
          "output_type": "stream",
          "text": [
            "\n",
            "Attempt 1:\n",
            "Result: r = 2\n",
            "Guessed Factors: 3 and 1\n",
            "*** Non-trivial factor found: 3 ***\n"
          ],
          "name": "stdout"
        }
      ]
    },
    {
      "cell_type": "markdown",
      "metadata": {
        "id": "1B6PyPCMLN2P"
      },
      "source": [
        "# EE84\n"
      ]
    },
    {
      "cell_type": "code",
      "metadata": {
        "colab": {
          "base_uri": "https://localhost:8080/",
          "height": 398
        },
        "id": "Ud6kgU3giFH_",
        "outputId": "f2f58a79-298c-4e1b-8d8a-f7dc8d9ece7b"
      },
      "source": [
        "qc = QuantumCircuit(1,1)\n",
        "# Alice prepares qubit in state |+>\n",
        "qc.h(0)\n",
        "qc.barrier()\n",
        "# Alice now sends the qubit to Bob\n",
        "# who measures it in the X-basis\n",
        "qc.h(0)\n",
        "qc.measure(0,0)\n",
        "\n",
        "# Draw and simulate circuit\n",
        "display(qc.draw())\n",
        "aer_sim = Aer.get_backend('aer_simulator')\n",
        "job = aer_sim.run(assemble(qc))\n",
        "plot_histogram(job.result().get_counts())"
      ],
      "execution_count": 18,
      "outputs": [
        {
          "output_type": "display_data",
          "data": {
            "text/html": [
              "<pre style=\"word-wrap: normal;white-space: pre;background: #fff0;line-height: 1.1;font-family: &quot;Courier New&quot;,Courier,monospace\">     ┌───┐ ░ ┌───┐┌─┐\n",
              "q_0: ┤ H ├─░─┤ H ├┤M├\n",
              "     └───┘ ░ └───┘└╥┘\n",
              "c: 1/══════════════╩═\n",
              "                   0 </pre>"
            ],
            "text/plain": [
              "     ┌───┐ ░ ┌───┐┌─┐\n",
              "q_0: ┤ H ├─░─┤ H ├┤M├\n",
              "     └───┘ ░ └───┘└╥┘\n",
              "c: 1/══════════════╩═\n",
              "                   0 "
            ]
          },
          "metadata": {
            "tags": []
          }
        },
        {
          "output_type": "execute_result",
          "data": {
            "image/png": "[encoded data removed]",
            "text/plain": [
              "<Figure size 504x360 with 1 Axes>"
            ]
          },
          "metadata": {
            "tags": []
          },
          "execution_count": 18
        }
      ]
    },
    {
      "cell_type": "code",
      "metadata": {
        "colab": {
          "base_uri": "https://localhost:8080/",
          "height": 402
        },
        "id": "uhU-SOOuiFIA",
        "outputId": "f08439d0-5f9a-4b7d-d152-3e0c417fbae1"
      },
      "source": [
        "qc = QuantumCircuit(1,1)\n",
        "qc.h(0)\n",
        "qc.measure(0, 0)\n",
        "qc.barrier()\n",
        "qc.h(0)\n",
        "qc.measure(0,0)\n",
        "display(qc.draw())\n",
        "aer_sim = Aer.get_backend('aer_simulator')\n",
        "job = aer_sim.run(assemble(qc))\n",
        "plot_histogram(job.result().get_counts())"
      ],
      "execution_count": 19,
      "outputs": [
        {
          "output_type": "display_data",
          "data": {
            "text/html": [
              "<pre style=\"word-wrap: normal;white-space: pre;background: #fff0;line-height: 1.1;font-family: &quot;Courier New&quot;,Courier,monospace\">     ┌───┐┌─┐ ░ ┌───┐┌─┐\n",
              "q_0: ┤ H ├┤M├─░─┤ H ├┤M├\n",
              "     └───┘└╥┘ ░ └───┘└╥┘\n",
              "c: 1/══════╩══════════╩═\n",
              "           0          0 </pre>"
            ],
            "text/plain": [
              "     ┌───┐┌─┐ ░ ┌───┐┌─┐\n",
              "q_0: ┤ H ├┤M├─░─┤ H ├┤M├\n",
              "     └───┘└╥┘ ░ └───┘└╥┘\n",
              "c: 1/══════╩══════════╩═\n",
              "           0          0 "
            ]
          },
          "metadata": {
            "tags": []
          }
        },
        {
          "output_type": "execute_result",
          "data": {
            "image/png": "[encoded data removed]",
            "text/plain": [
              "<Figure size 504x360 with 1 Axes>"
            ]
          },
          "metadata": {
            "tags": []
          },
          "execution_count": 19
        }
      ]
    },
    {
      "cell_type": "code",
      "metadata": {
        "id": "yz-Y-mTOiFID"
      },
      "source": [
        "np.random.seed(seed=0)"
      ],
      "execution_count": 20,
      "outputs": []
    },
    {
      "cell_type": "code",
      "metadata": {
        "id": "qRpUwvPOiFID"
      },
      "source": [
        "n = 13"
      ],
      "execution_count": 21,
      "outputs": []
    },
    {
      "cell_type": "code",
      "metadata": {
        "colab": {
          "base_uri": "https://localhost:8080/"
        },
        "id": "_KEA2GipiFIE",
        "outputId": "973e0279-9d8c-4cde-dd1d-5c28bec97a2c"
      },
      "source": [
        "np.random.seed(seed=0)\n",
        "n = 13\n",
        "## Step 1\n",
        "# Alice generates bits\n",
        "alice_bits = randint(2, size=n)\n",
        "print(alice_bits)"
      ],
      "execution_count": 22,
      "outputs": [
        {
          "output_type": "stream",
          "text": [
            "[0 1 1 0 1 1 1 1 1 1 1 0 0]\n"
          ],
          "name": "stdout"
        }
      ]
    },
    {
      "cell_type": "code",
      "metadata": {
        "colab": {
          "base_uri": "https://localhost:8080/"
        },
        "id": "uicvAd1TiFIE",
        "outputId": "e4178d87-655a-4033-a3bf-ecb48a8901b1"
      },
      "source": [
        "np.random.seed(seed=0)\n",
        "n = 13\n",
        "alice_bits = randint(2, size=n)\n",
        "\n",
        "alice_bases = randint(2, size=n)\n",
        "print(alice_bases)"
      ],
      "execution_count": 23,
      "outputs": [
        {
          "output_type": "stream",
          "text": [
            "[1 0 0 0 0 0 1 0 1 1 0 0 1]\n"
          ],
          "name": "stdout"
        }
      ]
    },
    {
      "cell_type": "code",
      "metadata": {
        "tags": [
          "thebelab-init"
        ],
        "id": "SkkQKI8jiFIF"
      },
      "source": [
        "def encode_message(bits, bases):\n",
        "    message = []\n",
        "    for i in range(n):\n",
        "        qc = QuantumCircuit(1,1)\n",
        "        if bases[i] == 0: # Prepare qubit in Z-basis\n",
        "            if bits[i] == 0:\n",
        "                pass \n",
        "            else:\n",
        "                qc.x(0)\n",
        "        else: # Prepare qubit in X-basis\n",
        "            if bits[i] == 0:\n",
        "                qc.h(0)\n",
        "            else:\n",
        "                qc.x(0)\n",
        "                qc.h(0)\n",
        "        qc.barrier()\n",
        "        message.append(qc)\n",
        "    return message"
      ],
      "execution_count": 24,
      "outputs": []
    },
    {
      "cell_type": "code",
      "metadata": {
        "id": "wtcztcvLiFIF"
      },
      "source": [
        "np.random.seed(seed=0)\n",
        "n = 13\n",
        "\n",
        "alice_bits = randint(2, size=n)\n",
        "\n",
        "alice_bases = randint(2, size=n)\n",
        "message = encode_message(alice_bits, alice_bases)"
      ],
      "execution_count": 25,
      "outputs": []
    },
    {
      "cell_type": "code",
      "metadata": {
        "colab": {
          "base_uri": "https://localhost:8080/"
        },
        "id": "iJMcCUnkiFIF",
        "outputId": "595bc7bb-c586-4443-8954-b2e965691bec"
      },
      "source": [
        "print('bit = %i' % alice_bits[0])\n",
        "print('basis = %i' % alice_bases[0])"
      ],
      "execution_count": 26,
      "outputs": [
        {
          "output_type": "stream",
          "text": [
            "bit = 0\n",
            "basis = 1\n"
          ],
          "name": "stdout"
        }
      ]
    },
    {
      "cell_type": "code",
      "metadata": {
        "colab": {
          "base_uri": "https://localhost:8080/",
          "height": 92
        },
        "id": "pS2aZhnJiFIG",
        "outputId": "fb5f245c-f18c-435e-e945-d1936b1811ed"
      },
      "source": [
        "message[0].draw()"
      ],
      "execution_count": 27,
      "outputs": [
        {
          "output_type": "execute_result",
          "data": {
            "text/html": [
              "<pre style=\"word-wrap: normal;white-space: pre;background: #fff0;line-height: 1.1;font-family: &quot;Courier New&quot;,Courier,monospace\">     ┌───┐ ░ \n",
              "q_0: ┤ H ├─░─\n",
              "     └───┘ ░ \n",
              "c: 1/════════\n",
              "             </pre>"
            ],
            "text/plain": [
              "     ┌───┐ ░ \n",
              "q_0: ┤ H ├─░─\n",
              "     └───┘ ░ \n",
              "c: 1/════════\n",
              "             "
            ]
          },
          "metadata": {
            "tags": []
          },
          "execution_count": 27
        }
      ]
    },
    {
      "cell_type": "code",
      "metadata": {
        "colab": {
          "base_uri": "https://localhost:8080/",
          "height": 126
        },
        "id": "VDh2rPfFiFIG",
        "outputId": "43a0fb60-1241-4d68-9c55-653edbae1154"
      },
      "source": [
        "print('bit = %i' % alice_bits[4])\n",
        "print('basis = %i' % alice_bases[4])\n",
        "message[4].draw()"
      ],
      "execution_count": 31,
      "outputs": [
        {
          "output_type": "stream",
          "text": [
            "bit = 1\n",
            "basis = 0\n"
          ],
          "name": "stdout"
        },
        {
          "output_type": "execute_result",
          "data": {
            "text/html": [
              "<pre style=\"word-wrap: normal;white-space: pre;background: #fff0;line-height: 1.1;font-family: &quot;Courier New&quot;,Courier,monospace\">     ┌───┐ ░ \n",
              "q_0: ┤ X ├─░─\n",
              "     └───┘ ░ \n",
              "c: 1/════════\n",
              "             </pre>"
            ],
            "text/plain": [
              "     ┌───┐ ░ \n",
              "q_0: ┤ X ├─░─\n",
              "     └───┘ ░ \n",
              "c: 1/════════\n",
              "             "
            ]
          },
          "metadata": {
            "tags": []
          },
          "execution_count": 31
        }
      ]
    },
    {
      "cell_type": "code",
      "metadata": {
        "colab": {
          "base_uri": "https://localhost:8080/"
        },
        "id": "VFFnwi2RiFIG",
        "outputId": "2eaafda9-520a-45c3-d5d2-49bc4191094a"
      },
      "source": [
        "np.random.seed(seed=0)\n",
        "n = 13\n",
        "\n",
        "alice_bits = randint(2, size=n)\n",
        "\n",
        "alice_bases = randint(2, size=n)\n",
        "message = encode_message(alice_bits, alice_bases)\n",
        "\n",
        "bob_bases = randint(2, size=n)\n",
        "print(bob_bases)"
      ],
      "execution_count": 32,
      "outputs": [
        {
          "output_type": "stream",
          "text": [
            "[1 1 1 0 1 0 1 0 1 1 0 1 1]\n"
          ],
          "name": "stdout"
        }
      ]
    },
    {
      "cell_type": "code",
      "metadata": {
        "tags": [
          "thebelab-init"
        ],
        "id": "4xLPAVX6iFIH"
      },
      "source": [
        "def measure_message(message, bases):\n",
        "    backend = Aer.get_backend('aer_simulator')\n",
        "    measurements = []\n",
        "    for q in range(n):\n",
        "        if bases[q] == 0: # measuring in Z-basis\n",
        "            message[q].measure(0,0)\n",
        "        if bases[q] == 1: # measuring in X-basis\n",
        "            message[q].h(0)\n",
        "            message[q].measure(0,0)\n",
        "        aer_sim = Aer.get_backend('aer_simulator')\n",
        "        qobj = assemble(message[q], shots=1, memory=True)\n",
        "        result = aer_sim.run(qobj).result()\n",
        "        measured_bit = int(result.get_memory()[0])\n",
        "        measurements.append(measured_bit)\n",
        "    return measurements"
      ],
      "execution_count": 33,
      "outputs": []
    },
    {
      "cell_type": "code",
      "metadata": {
        "id": "0QbQqiPniFIH"
      },
      "source": [
        "np.random.seed(seed=0)\n",
        "n = 13\n",
        "\n",
        "alice_bits = randint(2, size=n)\n",
        "\n",
        "alice_bases = randint(2, size=n)\n",
        "message = encode_message(alice_bits, alice_bases)\n",
        "\n",
        "bob_bases = randint(2, size=n)\n",
        "bob_results = measure_message(message, bob_bases)"
      ],
      "execution_count": 34,
      "outputs": []
    },
    {
      "cell_type": "code",
      "metadata": {
        "colab": {
          "base_uri": "https://localhost:8080/",
          "height": 92
        },
        "id": "zZczMtqniFIH",
        "outputId": "b8ddf145-ead8-4443-c8d9-8d4aef3bd7cd"
      },
      "source": [
        "message[0].draw()"
      ],
      "execution_count": 28,
      "outputs": [
        {
          "output_type": "execute_result",
          "data": {
            "text/html": [
              "<pre style=\"word-wrap: normal;white-space: pre;background: #fff0;line-height: 1.1;font-family: &quot;Courier New&quot;,Courier,monospace\">     ┌───┐ ░ \n",
              "q_0: ┤ H ├─░─\n",
              "     └───┘ ░ \n",
              "c: 1/════════\n",
              "             </pre>"
            ],
            "text/plain": [
              "     ┌───┐ ░ \n",
              "q_0: ┤ H ├─░─\n",
              "     └───┘ ░ \n",
              "c: 1/════════\n",
              "             "
            ]
          },
          "metadata": {
            "tags": []
          },
          "execution_count": 28
        }
      ]
    },
    {
      "cell_type": "code",
      "metadata": {
        "colab": {
          "base_uri": "https://localhost:8080/",
          "height": 92
        },
        "id": "X-KkJV7AiFIH",
        "outputId": "23a8192a-86ed-4828-cc3f-278159cf4196"
      },
      "source": [
        "message[6].draw()"
      ],
      "execution_count": 29,
      "outputs": [
        {
          "output_type": "execute_result",
          "data": {
            "text/html": [
              "<pre style=\"word-wrap: normal;white-space: pre;background: #fff0;line-height: 1.1;font-family: &quot;Courier New&quot;,Courier,monospace\">     ┌───┐┌───┐ ░ \n",
              "q_0: ┤ X ├┤ H ├─░─\n",
              "     └───┘└───┘ ░ \n",
              "c: 1/═════════════\n",
              "                  </pre>"
            ],
            "text/plain": [
              "     ┌───┐┌───┐ ░ \n",
              "q_0: ┤ X ├┤ H ├─░─\n",
              "     └───┘└───┘ ░ \n",
              "c: 1/═════════════\n",
              "                  "
            ]
          },
          "metadata": {
            "tags": []
          },
          "execution_count": 29
        }
      ]
    },
    {
      "cell_type": "code",
      "metadata": {
        "colab": {
          "base_uri": "https://localhost:8080/"
        },
        "id": "24Yyg_47iFII",
        "outputId": "1a286726-5b66-455d-9366-aff224081e30"
      },
      "source": [
        "print(bob_results)"
      ],
      "execution_count": 35,
      "outputs": [
        {
          "output_type": "stream",
          "text": [
            "[0, 0, 1, 0, 0, 1, 1, 1, 1, 1, 1, 1, 0]\n"
          ],
          "name": "stdout"
        }
      ]
    },
    {
      "cell_type": "code",
      "metadata": {
        "scrolled": true,
        "tags": [
          "thebelab-init"
        ],
        "id": "5KFZdHpIiFII"
      },
      "source": [
        "def remove_garbage(a_bases, b_bases, bits):\n",
        "    good_bits = []\n",
        "    for q in range(n):\n",
        "        if a_bases[q] == b_bases[q]:\n",
        "            good_bits.append(bits[q])\n",
        "    return good_bits"
      ],
      "execution_count": 36,
      "outputs": []
    },
    {
      "cell_type": "code",
      "metadata": {
        "colab": {
          "base_uri": "https://localhost:8080/"
        },
        "id": "0twnfXsOiFIJ",
        "outputId": "19699a88-e31e-4b2f-f2c4-03361336c55c"
      },
      "source": [
        "np.random.seed(seed=0)\n",
        "n = 13\n",
        "\n",
        "alice_bits = randint(2, size=n)\n",
        "\n",
        "alice_bases = randint(2, size=n)\n",
        "message = encode_message(alice_bits, alice_bases)\n",
        "\n",
        "bob_bases = randint(2, size=n)\n",
        "bob_results = measure_message(message, bob_bases)\n",
        "\n",
        "alice_key = remove_garbage(alice_bases, bob_bases, alice_bits)\n",
        "print(alice_key)"
      ],
      "execution_count": 37,
      "outputs": [
        {
          "output_type": "stream",
          "text": [
            "[0, 0, 1, 1, 1, 1, 1, 1, 0]\n"
          ],
          "name": "stdout"
        }
      ]
    },
    {
      "cell_type": "code",
      "metadata": {
        "colab": {
          "base_uri": "https://localhost:8080/"
        },
        "id": "R-QmgGvpiFIJ",
        "outputId": "c70d13cc-a82d-461c-c897-114c0f7a1df2"
      },
      "source": [
        "np.random.seed(seed=0)\n",
        "n = 13\n",
        "\n",
        "alice_bits = randint(2, size=n)\n",
        "\n",
        "alice_bases = randint(2, size=n)\n",
        "message = encode_message(alice_bits, alice_bases)\n",
        "\n",
        "bob_bases = randint(2, size=n)\n",
        "bob_results = measure_message(message, bob_bases)\n",
        "\n",
        "alice_key = remove_garbage(alice_bases, bob_bases, alice_bits)\n",
        "bob_key = remove_garbage(alice_bases, bob_bases, bob_results)\n",
        "print(bob_key)"
      ],
      "execution_count": 38,
      "outputs": [
        {
          "output_type": "stream",
          "text": [
            "[0, 0, 1, 1, 1, 1, 1, 1, 0]\n"
          ],
          "name": "stdout"
        }
      ]
    },
    {
      "cell_type": "code",
      "metadata": {
        "tags": [
          "thebelab-init"
        ],
        "id": "kE1nqDQRiFIJ"
      },
      "source": [
        "def sample_bits(bits, selection):\n",
        "    sample = []\n",
        "    for i in selection:\n",
        "        i = np.mod(i, len(bits))\n",
        "        sample.append(bits.pop(i))\n",
        "    return sample"
      ],
      "execution_count": 39,
      "outputs": []
    },
    {
      "cell_type": "code",
      "metadata": {
        "colab": {
          "base_uri": "https://localhost:8080/"
        },
        "id": "ZGwvjGq5iFIK",
        "outputId": "bf31c80d-71e4-4cb9-b647-65d6871c2c55"
      },
      "source": [
        "np.random.seed(seed=0)\n",
        "n = 13\n",
        "\n",
        "alice_bits = randint(2, size=n)\n",
        "alice_bases = randint(2, size=n)\n",
        "message = encode_message(alice_bits, alice_bases)\n",
        "\n",
        "bob_bases = randint(2, size=n)\n",
        "bob_results = measure_message(message, bob_bases)\n",
        "\n",
        "alice_key = remove_garbage(alice_bases, bob_bases, alice_bits)\n",
        "bob_key = remove_garbage(alice_bases, bob_bases, bob_results)\n",
        "\n",
        "sample_size = 3\n",
        "bit_selection = randint(n, size=sample_size)\n",
        "\n",
        "bob_sample = sample_bits(bob_key, bit_selection)\n",
        "print(\"  bob_sample = \" + str(bob_sample))\n",
        "alice_sample = sample_bits(alice_key, bit_selection)\n",
        "print(\"alice_sample = \"+ str(alice_sample))"
      ],
      "execution_count": 40,
      "outputs": [
        {
          "output_type": "stream",
          "text": [
            "  bob_sample = [0, 1, 1]\n",
            "alice_sample = [0, 1, 1]\n"
          ],
          "name": "stdout"
        }
      ]
    },
    {
      "cell_type": "code",
      "metadata": {
        "colab": {
          "base_uri": "https://localhost:8080/"
        },
        "id": "9xO4T7UliFIK",
        "outputId": "a10cb5b7-d804-4740-cd09-45021b9d4c30"
      },
      "source": [
        "bob_sample == alice_sample"
      ],
      "execution_count": 41,
      "outputs": [
        {
          "output_type": "execute_result",
          "data": {
            "text/plain": [
              "True"
            ]
          },
          "metadata": {
            "tags": []
          },
          "execution_count": 41
        }
      ]
    },
    {
      "cell_type": "code",
      "metadata": {
        "colab": {
          "base_uri": "https://localhost:8080/"
        },
        "id": "t4gzHx41iFIK",
        "outputId": "c12d426c-71e7-409a-aeb6-a39e02e377bd"
      },
      "source": [
        "print(bob_key)\n",
        "print(alice_key)\n",
        "print(\"key length = %i\" % len(alice_key))"
      ],
      "execution_count": 42,
      "outputs": [
        {
          "output_type": "stream",
          "text": [
            "[0, 1, 1, 1, 1, 0]\n",
            "[0, 1, 1, 1, 1, 0]\n",
            "key length = 6\n"
          ],
          "name": "stdout"
        }
      ]
    }
  ]
}